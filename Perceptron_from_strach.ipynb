{
  "nbformat": 4,
  "nbformat_minor": 0,
  "metadata": {
    "colab": {
      "private_outputs": true,
      "provenance": []
    },
    "kernelspec": {
      "name": "python3",
      "display_name": "Python 3"
    },
    "language_info": {
      "name": "python"
    }
  },
  "cells": [
    {
      "cell_type": "code",
      "execution_count": null,
      "metadata": {
        "id": "U7_s_ihvzZV6"
      },
      "outputs": [],
      "source": [
        "import numpy as np\n",
        "\n",
        "\n",
        "class Perceptron:\n",
        "  def __init__(self, learning_rate=0.01, n_iters=1000):\n",
        "    self.lr = learning_rate\n",
        "    self.n_iters = n_iters\n",
        "    self.activation_func = self._step_function\n",
        "    self.weights = None\n",
        "    self.bias = None\n",
        "\n",
        "  def _step_function(self, x):\n",
        "    return np.where(x >= 0, 1, 0)\n",
        "\n",
        "  def fit(self, X, y):\n",
        "    n_sample, n_features = X.shape\n",
        "    self.weights = np.zeros(n_features)\n",
        "    self.bias = 0\n",
        "\n",
        "    for i in range(self.n_iters):\n",
        "      for idx, x_i in enumerate(X):\n",
        "        linear_output = np.dot(x_i, self.weights) + self.bias\n",
        "        y_predicted = self.activation_func(linear_output)\n",
        "\n",
        "        update = self.lr * (y[idx] - y_predicted)\n",
        "        self.weights += update * x_i\n",
        "        self.bias +=update\n",
        "\n",
        "  def predict(self, X):\n",
        "    linear_output = np.dot(X, self.weights) + self.bias\n",
        "    return self.activation_func(linear_output)"
      ]
    },
    {
      "cell_type": "code",
      "source": [
        "from sklearn.model_selection import train_test_split\n",
        "from sklearn.datasets import make_classification"
      ],
      "metadata": {
        "id": "iVCHM4bA21W7"
      },
      "execution_count": null,
      "outputs": []
    },
    {
      "cell_type": "code",
      "source": [
        "X, y = make_classification(n_samples=100, n_features=2, n_classes=2, n_redundant=0,n_informative=2)\n",
        "\n",
        "X_train, X_test, y_train, y_test = train_test_split(X, y, test_size=0.2)"
      ],
      "metadata": {
        "id": "iosTfdDW3HLB"
      },
      "execution_count": null,
      "outputs": []
    },
    {
      "cell_type": "code",
      "source": [
        "per = Perceptron(learning_rate=0.01, n_iters=1000)\n",
        "per.fit(X_train, y_train)"
      ],
      "metadata": {
        "id": "yVDaUTRB3lyp"
      },
      "execution_count": null,
      "outputs": []
    }
  ]
}